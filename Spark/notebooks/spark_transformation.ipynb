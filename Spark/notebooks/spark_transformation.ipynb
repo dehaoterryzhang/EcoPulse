{
 "cells": [
  {
   "cell_type": "code",
   "execution_count": 7,
   "metadata": {},
   "outputs": [],
   "source": [
    "import pyspark\n",
    "from pyspark.sql import SparkSession\n",
    "from pyspark.conf import SparkConf\n",
    "from pyspark.context import SparkContext\n",
    "from pyspark.sql.functions import col, current_date, date_sub, to_date, add_months, year, month, date_format\n",
    "from pyspark.sql import functions as F\n",
    "from pyspark.sql.window import Window"
   ]
  },
  {
   "cell_type": "code",
   "execution_count": 2,
   "metadata": {},
   "outputs": [],
   "source": [
    "credentials_location = '/home/terryz/.gc/my-creds.json'\n",
    "\n",
    "conf = SparkConf() \\\n",
    "    .setMaster('local[*]') \\\n",
    "    .setAppName('test') \\\n",
    "    .set(\"spark.jars\", \"/home/terryz/jars/gcs-connector-hadoop3-latest.jar,/home/terryz/jars/spark-bigquery-with-dependencies_2.12-0.24.0.jar\") \\\n",
    "    .set(\"spark.hadoop.google.cloud.auth.service.account.enable\", \"true\") \\\n",
    "    .set(\"spark.hadoop.google.cloud.auth.service.account.json.keyfile\", credentials_location)"
   ]
  },
  {
   "cell_type": "code",
   "execution_count": 3,
   "metadata": {},
   "outputs": [
    {
     "name": "stderr",
     "output_type": "stream",
     "text": [
      "25/03/25 21:14:08 WARN NativeCodeLoader: Unable to load native-hadoop library for your platform... using builtin-java classes where applicable\n",
      "Setting default log level to \"WARN\".\n",
      "To adjust logging level use sc.setLogLevel(newLevel). For SparkR, use setLogLevel(newLevel).\n"
     ]
    }
   ],
   "source": [
    "sc = SparkContext(conf=conf)\n",
    "\n",
    "hadoop_conf = sc._jsc.hadoopConfiguration()\n",
    "\n",
    "hadoop_conf.set(\"fs.AbstractFileSystem.gs.impl\",  \"com.google.cloud.hadoop.fs.gcs.GoogleHadoopFS\")\n",
    "hadoop_conf.set(\"fs.gs.impl\", \"com.google.cloud.hadoop.fs.gcs.GoogleHadoopFileSystem\")\n",
    "hadoop_conf.set(\"fs.gs.auth.service.account.json.keyfile\", credentials_location)\n",
    "hadoop_conf.set(\"fs.gs.auth.service.account.enable\", \"true\")"
   ]
  },
  {
   "cell_type": "code",
   "execution_count": 4,
   "metadata": {},
   "outputs": [],
   "source": [
    "spark = SparkSession.builder \\\n",
    "    .config(conf=sc.getConf()) \\\n",
    "    .getOrCreate()"
   ]
  },
  {
   "cell_type": "code",
   "execution_count": 5,
   "metadata": {},
   "outputs": [
    {
     "name": "stderr",
     "output_type": "stream",
     "text": [
      "                                                                                \r"
     ]
    }
   ],
   "source": [
    "#data load\n",
    "sp500 = spark.read.csv(\"gs://animated-scope-447904-d6-ecopulse-bucket/SP500_data.csv\", header=True, inferSchema=True)\n",
    "dgs10 = spark.read.csv(\"gs://animated-scope-447904-d6-ecopulse-bucket/DGS10_data.csv\", header=True, inferSchema=True)\n",
    "vixcls = spark.read.csv(\"gs://animated-scope-447904-d6-ecopulse-bucket/VIXCLS_data.csv\", header=True, inferSchema=True)\n",
    "effr = spark.read.csv(\"gs://animated-scope-447904-d6-ecopulse-bucket/EFFR_data.csv\", header=True, inferSchema=True)\n",
    "cpiaucsl = spark.read.csv(\"gs://animated-scope-447904-d6-ecopulse-bucket/CPIAUCSL_data.csv\", header=True, inferSchema=True)\n",
    "pcepi = spark.read.csv(\"gs://animated-scope-447904-d6-ecopulse-bucket/PCEPI_data.csv\", header=True, inferSchema=True)\n",
    "civpart = spark.read.csv(\"gs://animated-scope-447904-d6-ecopulse-bucket/CIVPART_data.csv\", header=True, inferSchema=True)\n",
    "indpro = spark.read.csv(\"gs://animated-scope-447904-d6-ecopulse-bucket/INDPRO_data.csv\", header=True, inferSchema=True)\n",
    "csushpisa = spark.read.csv(\"gs://animated-scope-447904-d6-ecopulse-bucket/CSUSHPISA_data.csv\", header=True, inferSchema=True)"
   ]
  },
  {
   "cell_type": "code",
   "execution_count": 8,
   "metadata": {},
   "outputs": [],
   "source": [
    "# Get the date 10 years ago\n",
    "ten_years_ago = add_months(current_date(), -12 * 10)\n",
    "\n",
    "# Filter each dataset to the last 10 years\n",
    "sp500_filtered = sp500.filter(to_date(sp500['date'], 'yyyy-MM-dd') >= ten_years_ago)\n",
    "dgs10_filtered = dgs10.filter(to_date(dgs10['date'], 'yyyy-MM-dd') >= ten_years_ago)\n",
    "vixcls_filtered = vixcls.filter(to_date(vixcls['date'], 'yyyy-MM-dd') >= ten_years_ago)\n",
    "effr_filtered = effr.filter(to_date(effr['date'], 'yyyy-MM-dd') >= ten_years_ago)\n",
    "\n",
    "# Perform full outer joins to include all dates, with nulls for missing data\n",
    "sp500_dgs10_vixcls_effr_10years_daily = sp500_filtered \\\n",
    "    .join(dgs10_filtered, on='date', how='outer') \\\n",
    "    .join(vixcls_filtered, on='date', how='outer') \\\n",
    "    .join(effr_filtered, on='date', how='outer')\n",
    "\n",
    "# add month and year\n",
    "sp500_dgs10_vixcls_effr_10years_daily = sp500_dgs10_vixcls_effr_10years_daily \\\n",
    "    .withColumn(\"month\", date_format(\"date\", \"MM\")) \\\n",
    "    .withColumn(\"year\", date_format(\"date\", \"yyyy\")) \\\n",
    "    .withColumn(\"year_month\", date_format(\"date\", \"yyyy-MM\"))\n",
    "\n",
    "#add categorical data for sp500\n",
    "sp500_dgs10_vixcls_effr_10years_daily = sp500_dgs10_vixcls_effr_10years_daily.withColumn(\n",
    "    'SP500_daily_change_category',\n",
    "    F.when(F.col('SP500') > F.lag('SP500', 1).over(Window.orderBy('date')) * 1.01, 'Increase') \\\n",
    "     .when(F.col('SP500') < F.lag('SP500', 1).over(Window.orderBy('date')) * 0.99, 'Decrease') \\\n",
    "     .otherwise('Constant')\n",
    ")\n"
   ]
  },
  {
   "cell_type": "code",
   "execution_count": 9,
   "metadata": {},
   "outputs": [],
   "source": [
    "# Similarly transform the monthly series\n",
    "cpiaucsl_filtered = cpiaucsl.filter(to_date(cpiaucsl['date'], 'yyyy-MM-dd') >= ten_years_ago)\n",
    "pcepi_filtered = pcepi.filter(to_date(pcepi['date'], 'yyyy-MM-dd') >= ten_years_ago)\n",
    "civpart_filtered = civpart.filter(to_date(civpart['date'], 'yyyy-MM-dd') >= ten_years_ago)\n",
    "indpro_filtered = indpro.filter(to_date(indpro['date'], 'yyyy-MM-dd') >= ten_years_ago)\n",
    "csushpisa_filtered = csushpisa.filter(to_date(csushpisa['date'], 'yyyy-MM-dd') >= ten_years_ago)\n",
    "\n",
    "cpiaucsl_pcepi_civpart_indpro_csushpisa_10years_monthly = cpiaucsl_filtered \\\n",
    "    .join(pcepi_filtered, on='date', how='outer') \\\n",
    "    .join(civpart_filtered, on='date', how='outer') \\\n",
    "    .join(indpro_filtered, on='date', how='outer') \\\n",
    "    .join(csushpisa_filtered, on='date', how='outer')\n",
    "\n",
    "cpiaucsl_pcepi_civpart_indpro_csushpisa_10years_monthly = cpiaucsl_pcepi_civpart_indpro_csushpisa_10years_monthly \\\n",
    "    .withColumn(\"month\", date_format(\"date\", \"MM\")) \\\n",
    "    .withColumn(\"year\", date_format(\"date\", \"yyyy\")) \\\n",
    "    .withColumn(\"year_month\", date_format(\"date\", \"yyyy-MM\"))"
   ]
  },
  {
   "cell_type": "code",
   "execution_count": 10,
   "metadata": {},
   "outputs": [],
   "source": [
    "# Perform left join by 'year_month' column to create the merged table\n",
    "EcoPulse_merged = sp500_dgs10_vixcls_effr_10years_daily \\\n",
    "    .join(cpiaucsl_pcepi_civpart_indpro_csushpisa_10years_monthly.drop('date', 'year', 'month'), on='year_month', how='left')"
   ]
  },
  {
   "cell_type": "code",
   "execution_count": null,
   "metadata": {},
   "outputs": [],
   "source": [
    "project_id = 'animated-scope-447904-d6'\n",
    "dataset_id = 'ecopulse_bq_dw'\n",
    "daily_table_id = 'sp500_dgs10_vixcls_effr_10years_daily' \n",
    "monthly_table_id = 'cpiaucsl_pcepi_civpart_indpro_csushpisa_10years_monthly'\n",
    "merged_table_id = 'ecopulse_merged'\n",
    "\n",
    "# Write the DataFrames to BigQuery\n",
    "sp500_dgs10_vixcls_effr_10years_daily \\\n",
    "    .write \\\n",
    "    .format('bigquery') \\\n",
    "    .option('temporaryGcsBucket', 'animated-scope-447904-d6-ecopulse-bucket') \\\n",
    "    .option('table', f'{project_id}:{dataset_id}.{daily_table_id}') \\\n",
    "    .mode(\"overwrite\") \\\n",
    "    .save()\n",
    "\n",
    "cpiaucsl_pcepi_civpart_indpro_csushpisa_10years_monthly \\\n",
    "    .write \\\n",
    "    .format('bigquery') \\\n",
    "    .option('temporaryGcsBucket', 'animated-scope-447904-d6-ecopulse-bucket') \\\n",
    "    .option('table', f'{project_id}:{dataset_id}.{monthly_table_id}') \\\n",
    "    .mode(\"overwrite\") \\\n",
    "    .save()\n",
    "\n",
    "EcoPulse_merged \\\n",
    "    .write \\\n",
    "    .format('bigquery') \\\n",
    "    .option('temporaryGcsBucket', 'animated-scope-447904-d6-ecopulse-bucket') \\\n",
    "    .option('table', f'{project_id}:{dataset_id}.{merged_table_id}') \\\n",
    "    .mode(\"overwrite\") \\\n",
    "    .save()"
   ]
  }
 ],
 "metadata": {
  "kernelspec": {
   "display_name": "ecopulse-env",
   "language": "python",
   "name": "python3"
  },
  "language_info": {
   "codemirror_mode": {
    "name": "ipython",
    "version": 3
   },
   "file_extension": ".py",
   "mimetype": "text/x-python",
   "name": "python",
   "nbconvert_exporter": "python",
   "pygments_lexer": "ipython3",
   "version": "3.12.9"
  }
 },
 "nbformat": 4,
 "nbformat_minor": 2
}
